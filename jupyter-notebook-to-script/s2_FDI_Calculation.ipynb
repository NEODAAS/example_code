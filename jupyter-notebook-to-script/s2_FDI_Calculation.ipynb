{
 "cells": [
  {
   "cell_type": "markdown",
   "metadata": {},
   "source": [
    "# Calculate Floating Debris Index\n",
    "\n",
    "A notebook to calculate the Floating Debris Index (FDI; [1]) and apply to a Sentinel 2 netCDF file processed using ACOLITE\n",
    "\n",
    "[1] Biermann, L., Clewley, D., Martinez-Vicente, V. et al. Finding Plastic Patches in Coastal Waters using Optical Satellite Data. Sci Rep 10, 5364 (2020). https://doi.org/10.1038/s41598-020-62298-z"
   ]
  },
  {
   "cell_type": "code",
   "execution_count": null,
   "metadata": {},
   "outputs": [],
   "source": [
    "import xarray # Used to read and manipulate netCDF\n",
    "from dask.diagnostics import ProgressBar # Dask is used to process large netCDF without loading all to RAM this shows progress"
   ]
  },
  {
   "cell_type": "code",
   "execution_count": null,
   "metadata": {},
   "outputs": [],
   "source": [
    "# Open scene into xarray dataset\n",
    "# Specify chunksize so uses dask and doesn't load all data to RAM\n",
    "s2_data = xarray.open_dataset(\"S2A_MSI_2018_04_20_11_21_21_T30VWH_L2R.nc\", decode_cf=False, chunks=512)"
   ]
  },
  {
   "cell_type": "code",
   "execution_count": null,
   "metadata": {},
   "outputs": [],
   "source": [
    "nir =  s2_data[\"rhos_833\"]\n",
    "# Try S2A and S2B wavelengths\n",
    "try:\n",
    "    red_edge =  s2_data[\"rhos_740\"]\n",
    "except KeyError:\n",
    "    red_edge =  s2_data[\"rhos_739\"]\n",
    "try:\n",
    "    swir = s2_data[\"rhos_1614\"]\n",
    "except KeyError:\n",
    "    swir = s2_data[\"rhos_1610\"]\n",
    "\n",
    "# Calculate FDI\n",
    "fdi = nir - red_edge - (swir - red_edge)*1.636\n",
    "# Set dataset name to FDI\n",
    "fdi.name = \"FDI\""
   ]
  },
  {
   "cell_type": "code",
   "execution_count": null,
   "metadata": {},
   "outputs": [],
   "source": [
    "# Convert to dataset\n",
    "fdi_xarray = fdi.to_dataset(name=\"fdi\")"
   ]
  },
  {
   "cell_type": "code",
   "execution_count": null,
   "metadata": {},
   "outputs": [],
   "source": [
    "# Write out to netCDF\n",
    "# Set up attributes\n",
    "fdi_xarray[\"fdi\"].attrs = {'long_name': 'Floating Debris Index',\n",
    "                        'standard_name': 'mass_concentration_of_chlorophyll_a_in_sea_water'}\n",
    "\n",
    "# Export\n",
    "print(\"Writing out\")\n",
    "with ProgressBar():\n",
    "    fdi_xarray.to_netcdf(\"S2A_MSI_2018_04_20_11_21_21_T30VWH_L2R_fdi.nc\", engine=\"netcdf4\", encoding={\"fdi\" : {\"zlib\" : True, \"complevel\" : 4}})"
   ]
  },
  {
   "cell_type": "code",
   "execution_count": null,
   "metadata": {},
   "outputs": [],
   "source": []
  }
 ],
 "metadata": {
  "kernelspec": {
   "display_name": "Python 3",
   "language": "python",
   "name": "python3"
  },
  "language_info": {
   "codemirror_mode": {
    "name": "ipython",
    "version": 3
   },
   "file_extension": ".py",
   "mimetype": "text/x-python",
   "name": "python",
   "nbconvert_exporter": "python",
   "pygments_lexer": "ipython3",
   "version": "3.8.6"
  }
 },
 "nbformat": 4,
 "nbformat_minor": 4
}
